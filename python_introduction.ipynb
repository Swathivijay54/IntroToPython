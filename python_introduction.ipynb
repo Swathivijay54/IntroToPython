{
  "nbformat": 4,
  "nbformat_minor": 0,
  "metadata": {
    "colab": {
      "provenance": [],
      "collapsed_sections": [],
      "include_colab_link": true
    },
    "kernelspec": {
      "name": "python3",
      "display_name": "Python 3"
    },
    "language_info": {
      "name": "python"
    }
  },
  "cells": [
    {
      "cell_type": "markdown",
      "metadata": {
        "id": "view-in-github",
        "colab_type": "text"
      },
      "source": [
        "<a href=\"https://colab.research.google.com/github/Swathivijay54/IntroToPython/blob/master/python_introduction.ipynb\" target=\"_parent\"><img src=\"https://colab.research.google.com/assets/colab-badge.svg\" alt=\"Open In Colab\"/></a>"
      ]
    },
    {
      "cell_type": "markdown",
      "metadata": {
        "id": "Mgll8iAa-awp"
      },
      "source": [
        "#Introduction to Python"
      ]
    },
    {
      "cell_type": "code",
      "metadata": {
        "id": "iqs0wqBP-f8V"
      },
      "source": [
        "#Python is a popular programming language. \n",
        "#It was created by Guido van Rossum, and released in 1991\n",
        "#It is used for:\n",
        "  #web development (server-side),\n",
        "  #software development,\n",
        "  #mathematics,\n",
        "  #system scripting.\n",
        "\n",
        "#What can Python do?\n",
        "  #Python can be used on a server to create web applications.\n",
        "  #Python can be used alongside software to create workflows.\n",
        "  #Python can connect to database systems. It can also read and modify files.\n",
        "  #Python can be used to handle big data and perform complex mathematics.\n",
        "  #Python can be used for rapid prototyping, or for production-ready software development.\n",
        "#Why Python?\n",
        "  #Python works on different platforms (Windows, Mac, Linux, Raspberry Pi, etc).\n",
        "  #Python has a simple syntax similar to the English language.\n",
        "  #Python has syntax that allows developers to write programs with fewer lines than some other programming languages.\n",
        "  #Python runs on an interpreter system, meaning that code can be executed as soon as it is written. This means that prototyping can be very quick.\n",
        "  #Python can be treated in a procedural way, an object-oriented way or a functional way."
      ],
      "execution_count": null,
      "outputs": []
    },
    {
      "cell_type": "code",
      "metadata": {
        "colab": {
          "base_uri": "https://localhost:8080/"
        },
        "id": "kWEGX23bA1Jn",
        "outputId": "07a7c91f-9392-414a-9538-ca96d832ecb9"
      },
      "source": [
        "#Printing\n",
        "x = 5\n",
        "y = \"Hello, World!\"\n",
        "\n",
        "print(x)\n",
        "print(y)"
      ],
      "execution_count": null,
      "outputs": [
        {
          "output_type": "stream",
          "name": "stdout",
          "text": [
            "5\n",
            "Hello, World!\n"
          ]
        }
      ]
    },
    {
      "cell_type": "code",
      "metadata": {
        "colab": {
          "base_uri": "https://localhost:8080/"
        },
        "id": "o7rjyMLa_36A",
        "outputId": "6ff6641a-987f-4794-a698-c30c35aca666"
      },
      "source": [
        "#This is a comment.\n",
        "print(\"Hello, Vijay!\")"
      ],
      "execution_count": null,
      "outputs": [
        {
          "output_type": "stream",
          "name": "stdout",
          "text": [
            "Hello, Vijay!\n"
          ]
        }
      ]
    },
    {
      "cell_type": "code",
      "metadata": {
        "colab": {
          "base_uri": "https://localhost:8080/"
        },
        "id": "fS5uTTW_CCu8",
        "outputId": "bca1e4bf-b5e7-42fa-a794-07cefc003429"
      },
      "source": [
        "print(\"Hello, World!\") #This is a comment."
      ],
      "execution_count": null,
      "outputs": [
        {
          "output_type": "stream",
          "name": "stdout",
          "text": [
            "Hello, World!\n"
          ]
        }
      ]
    },
    {
      "cell_type": "code",
      "metadata": {
        "colab": {
          "base_uri": "https://localhost:8080/"
        },
        "id": "EvfRNt9DCyae",
        "outputId": "0ee24ebe-80c2-4f92-e6d3-e22d0a2e06f8"
      },
      "source": [
        "#Comments can be used to explain Python code.\n",
        "#Comments can be used to make the code more readable.\n",
        "#Comments can be used to prevent execution when testing code.\n",
        "print(\"Hello, World!\")"
      ],
      "execution_count": null,
      "outputs": [
        {
          "output_type": "stream",
          "name": "stdout",
          "text": [
            "Hello, World!\n"
          ]
        }
      ]
    },
    {
      "cell_type": "code",
      "metadata": {
        "colab": {
          "base_uri": "https://localhost:8080/"
        },
        "id": "QDvPliDRAsr3",
        "outputId": "a1eba5f2-3e3e-4387-e992-ed8e08336bfc"
      },
      "source": [
        "\"\"\"\n",
        "This is a comment\n",
        "written in\n",
        "more than just one line\n",
        "\"\"\"\n",
        "print(\"Hello, World!\")"
      ],
      "execution_count": null,
      "outputs": [
        {
          "output_type": "stream",
          "name": "stdout",
          "text": [
            "Hello, World!\n"
          ]
        }
      ]
    },
    {
      "cell_type": "code",
      "metadata": {
        "colab": {
          "base_uri": "https://localhost:8080/"
        },
        "id": "tCmeMf9OHyfR",
        "outputId": "c610aa8e-c317-4494-ecae-821af8a51d83"
      },
      "source": [
        "#Creating Variables\n",
        "#Python has no command for declaring a variable.\n",
        "#A variable is created the moment you first assign a value to it.\n",
        "x =5\n",
        "y = \"John\"\n",
        "print(x)\n",
        "print(y)"
      ],
      "execution_count": null,
      "outputs": [
        {
          "output_type": "stream",
          "name": "stdout",
          "text": [
            "5\n",
            "John\n"
          ]
        }
      ]
    },
    {
      "cell_type": "code",
      "metadata": {
        "colab": {
          "base_uri": "https://localhost:8080/"
        },
        "id": "Km1J5LbiIOx4",
        "outputId": "9ec57c2b-b151-4fb1-846d-3239e09be11a"
      },
      "source": [
        "#Variables do not need to be declared with any particular type, and \n",
        "#can even change type after they have been set.\n",
        "x = 4       # x is of type int\n",
        "print(x)\n",
        "x = \"Sally\" # x is now of type str\n",
        "print(x)"
      ],
      "execution_count": null,
      "outputs": [
        {
          "output_type": "stream",
          "name": "stdout",
          "text": [
            "4\n",
            "Sally\n"
          ]
        }
      ]
    },
    {
      "cell_type": "code",
      "metadata": {
        "colab": {
          "base_uri": "https://localhost:8080/"
        },
        "id": "XzR49puWJ0wf",
        "outputId": "b1f15ea3-51fb-4b47-d867-252a6eeb1fec"
      },
      "source": [
        "#Casting\n",
        "#If you want to specify the data type of a variable, this can be done with casting.\n",
        "x = str(3)    # x will be '3'\n",
        "y = int(3)    # y will be 3\n",
        "z = float(3)  # z will be 3.0\n",
        "print(x)\n",
        "print(y)\n",
        "print(z)"
      ],
      "execution_count": null,
      "outputs": [
        {
          "output_type": "stream",
          "name": "stdout",
          "text": [
            "3\n",
            "3\n",
            "3.0\n"
          ]
        }
      ]
    },
    {
      "cell_type": "code",
      "metadata": {
        "id": "3vmkWt37v3J1"
      },
      "source": [
        "rno= input()"
      ],
      "execution_count": null,
      "outputs": []
    },
    {
      "cell_type": "markdown",
      "metadata": {
        "id": "6pf4hicio8li"
      },
      "source": [
        "#Python Data Types"
      ]
    },
    {
      "cell_type": "code",
      "metadata": {
        "id": "Pf4yYcJcMsEK"
      },
      "source": [
        "#Built-in Data Types\n",
        "#  In programming, data type is an important concept.\n",
        "#  Variables can store data of different types, and different types can do different things.\n",
        "#  Python has the following data types built-in by default, in these categories:\n",
        "\n",
        "    #Text Type:\t        str\n",
        "    #Numeric Types:\t    int, float, complex\n",
        "    #Sequence Types:\t  list, tuple, range\n",
        "    #Mapping Type:\t    dict\n",
        "    #Set Types:\t        set, frozenset\n",
        "    #Boolean Type:\t    bool\n",
        "    #Binary Types:\t    bytes, bytearray, memoryview"
      ],
      "execution_count": null,
      "outputs": []
    },
    {
      "cell_type": "code",
      "metadata": {
        "colab": {
          "base_uri": "https://localhost:8080/"
        },
        "id": "3_lXkr5PKai4",
        "outputId": "54b08fdf-b0b1-4793-dadb-6ff9ae078787"
      },
      "source": [
        "#You can get the data type of a variable with the type() function.\n",
        "x = 5\n",
        "y = \"John\"\n",
        "print(type(x))\n",
        "print(type(y))"
      ],
      "execution_count": null,
      "outputs": [
        {
          "output_type": "stream",
          "name": "stdout",
          "text": [
            "<class 'int'>\n",
            "<class 'str'>\n"
          ]
        }
      ]
    },
    {
      "cell_type": "code",
      "metadata": {
        "colab": {
          "base_uri": "https://localhost:8080/"
        },
        "id": "4SBABP-wYkqO",
        "outputId": "c2562908-2f67-43ed-c00a-b74203c30f2b"
      },
      "source": [
        "#Python Numbers\n",
        "x = 1    # int\n",
        "y = 2.8  # float\n",
        "z = 1j   # complex\n",
        "print(type(x))\n",
        "print(type(y))\n",
        "print(type(z))\n"
      ],
      "execution_count": null,
      "outputs": [
        {
          "output_type": "stream",
          "name": "stdout",
          "text": [
            "<class 'int'>\n",
            "<class 'float'>\n",
            "<class 'complex'>\n"
          ]
        }
      ]
    },
    {
      "cell_type": "code",
      "metadata": {
        "colab": {
          "base_uri": "https://localhost:8080/"
        },
        "id": "fYlNKypbY-u5",
        "outputId": "88eb1a85-2e0e-4036-d62f-051e29debafb"
      },
      "source": [
        "x = 1\n",
        "y = 35656222554887711\n",
        "z = -3255522\n",
        "\n",
        "print(type(x))\n",
        "print(type(y))\n",
        "print(type(z))"
      ],
      "execution_count": null,
      "outputs": [
        {
          "output_type": "stream",
          "name": "stdout",
          "text": [
            "<class 'int'>\n",
            "<class 'int'>\n",
            "<class 'int'>\n"
          ]
        }
      ]
    },
    {
      "cell_type": "code",
      "metadata": {
        "colab": {
          "base_uri": "https://localhost:8080/"
        },
        "id": "PVWpyYWrZJe4",
        "outputId": "87db4c36-926f-4ba6-a4cc-c1b192d945ad"
      },
      "source": [
        "x = 1.10\n",
        "y = 1.0\n",
        "z = -35.59\n",
        "\n",
        "print(type(x))\n",
        "print(type(y))\n",
        "print(type(z))"
      ],
      "execution_count": null,
      "outputs": [
        {
          "output_type": "stream",
          "name": "stdout",
          "text": [
            "<class 'float'>\n",
            "<class 'float'>\n",
            "<class 'float'>\n"
          ]
        }
      ]
    },
    {
      "cell_type": "code",
      "metadata": {
        "colab": {
          "base_uri": "https://localhost:8080/"
        },
        "id": "Uxmkm-GLZQz8",
        "outputId": "2a230882-e215-4491-8a96-d31802c9e1d6"
      },
      "source": [
        "x = 3+5j\n",
        "y = 5j\n",
        "z = -5j\n",
        "\n",
        "print(type(x))\n",
        "print(type(y))\n",
        "print(type(z))"
      ],
      "execution_count": null,
      "outputs": [
        {
          "output_type": "stream",
          "name": "stdout",
          "text": [
            "<class 'complex'>\n",
            "<class 'complex'>\n",
            "<class 'complex'>\n"
          ]
        }
      ]
    },
    {
      "cell_type": "code",
      "metadata": {
        "colab": {
          "base_uri": "https://localhost:8080/"
        },
        "id": "NS-PSG7FZXlQ",
        "outputId": "51b9d15b-ccb6-4bbd-d251-394d88c7d609"
      },
      "source": [
        "#Type Conversion\n",
        "x = 1    # int \n",
        "y = 2.8  # float\n",
        "z = 1j   # complex\n",
        "\n",
        "#convert from int to float:\n",
        "a = float(x)\n",
        "\n",
        "#convert from float to int:\n",
        "b = int(y)\n",
        "\n",
        "#convert from int to complex:\n",
        "c = complex(x)\n",
        "\n",
        "print(a)\n",
        "print(b)\n",
        "print(c)\n",
        "\n",
        "print(type(a))\n",
        "print(type(b))\n",
        "print(type(c))"
      ],
      "execution_count": null,
      "outputs": [
        {
          "output_type": "stream",
          "name": "stdout",
          "text": [
            "1.0\n",
            "2\n",
            "(1+0j)\n",
            "<class 'float'>\n",
            "<class 'int'>\n",
            "<class 'complex'>\n"
          ]
        }
      ]
    },
    {
      "cell_type": "code",
      "metadata": {
        "id": "ZZqL2E68Zy5O"
      },
      "source": [
        "#Random number generation\n",
        "import random\n",
        "print(random.randrange(1, 10))"
      ],
      "execution_count": null,
      "outputs": []
    },
    {
      "cell_type": "code",
      "metadata": {
        "colab": {
          "base_uri": "https://localhost:8080/"
        },
        "id": "ipVne03fZ9F-",
        "outputId": "092f60a8-cdcb-4731-b506-74e741909072"
      },
      "source": [
        "#Python Casting\n",
        "x = float(1)\n",
        "y = float(2.8)\n",
        "z = float(\"3\")\n",
        "w = float(\"4.2\")\n",
        "print(x)\n",
        "print(y)\n",
        "print(z)\n",
        "print(w)"
      ],
      "execution_count": null,
      "outputs": [
        {
          "output_type": "stream",
          "name": "stdout",
          "text": [
            "1.0\n",
            "2.8\n",
            "3.0\n",
            "4.2\n"
          ]
        }
      ]
    },
    {
      "cell_type": "code",
      "metadata": {
        "id": "Qf_DZoBfakk_"
      },
      "source": [
        "#Converting to string\n",
        "x = str(\"s1\")\n",
        "y = str(2)\n",
        "z = str(3.0)\n",
        "print(x)\n",
        "print(y)\n",
        "print(z)"
      ],
      "execution_count": null,
      "outputs": []
    },
    {
      "cell_type": "code",
      "metadata": {
        "colab": {
          "base_uri": "https://localhost:8080/"
        },
        "id": "ZWxYr8BDaz8A",
        "outputId": "f9150060-23e0-4864-e8a3-4e0f6fb92e01"
      },
      "source": [
        "#Python Strings\n",
        "#Strings in python are surrounded by either single quotation marks, or double quotation marks.\n",
        "#You can use double or single quotes:\n",
        "\n",
        "print(\"Hello\")\n",
        "print('Hello')\n"
      ],
      "execution_count": null,
      "outputs": [
        {
          "output_type": "stream",
          "name": "stdout",
          "text": [
            "Hello\n",
            "Hello\n"
          ]
        }
      ]
    },
    {
      "cell_type": "code",
      "metadata": {
        "colab": {
          "base_uri": "https://localhost:8080/"
        },
        "id": "MLTqZ8fbbZfQ",
        "outputId": "b5e8dc61-4749-4699-eebd-5f25880c21b4"
      },
      "source": [
        "a = \"\"\"Hello Dear Participants\n",
        "Welcome to the FDP\n",
        "Enjoy the DL Sessions\"\"\"\n",
        "print(a)"
      ],
      "execution_count": null,
      "outputs": [
        {
          "output_type": "stream",
          "name": "stdout",
          "text": [
            "Hello Dear Participants\n",
            "Welcome to the FDP\n",
            "Enjoy the DL Sessions\n"
          ]
        }
      ]
    },
    {
      "cell_type": "code",
      "metadata": {
        "id": "tVaa5lBDcKoI",
        "colab": {
          "base_uri": "https://localhost:8080/"
        },
        "outputId": "8dada848-5e02-42aa-f564-9b02774a025a"
      },
      "source": [
        "#Strings are Arrays\n",
        "a = \"Hello, World!\"\n",
        "print(a[1])"
      ],
      "execution_count": null,
      "outputs": [
        {
          "output_type": "stream",
          "name": "stdout",
          "text": [
            "e\n"
          ]
        }
      ]
    },
    {
      "cell_type": "code",
      "metadata": {
        "id": "j5RPA34kcSSv",
        "colab": {
          "base_uri": "https://localhost:8080/"
        },
        "outputId": "0baee7c8-48a0-4a6b-9691-897b10d6fe29"
      },
      "source": [
        "#Looping Through a String\n",
        "for x in \"banana\":\n",
        "  print(x) "
      ],
      "execution_count": null,
      "outputs": [
        {
          "output_type": "stream",
          "name": "stdout",
          "text": [
            "b\n",
            "a\n",
            "n\n",
            "a\n",
            "n\n",
            "a\n"
          ]
        }
      ]
    },
    {
      "cell_type": "code",
      "metadata": {
        "colab": {
          "base_uri": "https://localhost:8080/"
        },
        "id": "7JgEP-btcZRL",
        "outputId": "bd5c6847-eccc-4987-8918-4d9b8a1504fe"
      },
      "source": [
        "#String length1\n",
        "a = \"Hello, World!\"\n",
        "print(len(a))"
      ],
      "execution_count": null,
      "outputs": [
        {
          "output_type": "stream",
          "name": "stdout",
          "text": [
            "13\n"
          ]
        }
      ]
    },
    {
      "cell_type": "markdown",
      "metadata": {
        "id": "oGJmbZTUozs2"
      },
      "source": [
        "#Conditional Statements"
      ]
    },
    {
      "cell_type": "code",
      "metadata": {
        "colab": {
          "base_uri": "https://localhost:8080/"
        },
        "id": "_iJwFL1EgbjF",
        "outputId": "14eae647-a4b5-4390-d432-b1a1131f9799"
      },
      "source": [
        "a = 33\n",
        "b = 200\n",
        "if b > a:\n",
        "  print(\"b is greater than a\")"
      ],
      "execution_count": null,
      "outputs": [
        {
          "output_type": "stream",
          "name": "stdout",
          "text": [
            "b is greater than a\n"
          ]
        }
      ]
    },
    {
      "cell_type": "code",
      "metadata": {
        "id": "GboGpJf1g6m2"
      },
      "source": [
        "#Indentation\n",
        "a = 33\n",
        "b = 200\n",
        "\n",
        "if b > a:\n",
        "print(\"b is greater than a\")"
      ],
      "execution_count": null,
      "outputs": []
    },
    {
      "cell_type": "code",
      "metadata": {
        "colab": {
          "base_uri": "https://localhost:8080/"
        },
        "id": "cudC1b8rhJd-",
        "outputId": "7ab3c4b2-f908-419a-c518-712d4e42e42e"
      },
      "source": [
        "#Elif\n",
        "a = 33\n",
        "b = 33\n",
        "if b > a:\n",
        "  print(\"b is greater than a\")\n",
        "elif a == b:\n",
        "  print(\"a and b are equal\")"
      ],
      "execution_count": null,
      "outputs": [
        {
          "output_type": "stream",
          "name": "stdout",
          "text": [
            "a and b are equal\n"
          ]
        }
      ]
    },
    {
      "cell_type": "code",
      "metadata": {
        "id": "DahausvihX4W",
        "colab": {
          "base_uri": "https://localhost:8080/"
        },
        "outputId": "e9da5ba8-5e05-4f25-e8bc-4fbe6c0437cf"
      },
      "source": [
        "#else\n",
        "a = 200\n",
        "b = 33\n",
        "if b > a:\n",
        "  print(\"b is greater than a\")\n",
        "elif a == b:\n",
        "  print(\"a and b are equal\")\n",
        "else:\n",
        "  print(\"a is greater than b\")"
      ],
      "execution_count": null,
      "outputs": [
        {
          "output_type": "stream",
          "name": "stdout",
          "text": [
            "a is greater than b\n"
          ]
        }
      ]
    },
    {
      "cell_type": "code",
      "metadata": {
        "colab": {
          "base_uri": "https://localhost:8080/"
        },
        "id": "-QI62Pfkhdhv",
        "outputId": "ca86be2d-c208-468d-da1f-f537b910f073"
      },
      "source": [
        "a = 200\n",
        "b = 33\n",
        "if b > a:\n",
        "  print(\"b is greater than a\")\n",
        "else:\n",
        "  print(\"b is not greater than a\")"
      ],
      "execution_count": null,
      "outputs": [
        {
          "output_type": "stream",
          "name": "stdout",
          "text": [
            "b is not greater than a\n"
          ]
        }
      ]
    },
    {
      "cell_type": "code",
      "metadata": {
        "colab": {
          "base_uri": "https://localhost:8080/"
        },
        "id": "2jZepkhJk3W0",
        "outputId": "aee8be2e-66cb-435f-8e3c-50c56c884d9a"
      },
      "source": [
        "#Short Hand If\n",
        "a = 200\n",
        "b = 33\n",
        "\n",
        "if a > b: print(\"a is greater than b\")"
      ],
      "execution_count": null,
      "outputs": [
        {
          "output_type": "stream",
          "name": "stdout",
          "text": [
            "a is greater than b\n"
          ]
        }
      ]
    },
    {
      "cell_type": "code",
      "metadata": {
        "id": "I03brhjMk-Lj",
        "colab": {
          "base_uri": "https://localhost:8080/"
        },
        "outputId": "c97a7e55-dd5a-4ded-b10b-afc1588a08a5"
      },
      "source": [
        "#Short Hand If ... Else\n",
        "a = 2000\n",
        "b = 330\n",
        "\n",
        "print(\"A\") if a > b else print(\"B\")"
      ],
      "execution_count": null,
      "outputs": [
        {
          "output_type": "stream",
          "name": "stdout",
          "text": [
            "A\n"
          ]
        }
      ]
    },
    {
      "cell_type": "code",
      "metadata": {
        "id": "ye4RvtPQlMmc"
      },
      "source": [
        "a = 330\n",
        "b = 330\n",
        "\n",
        "print(\"A\") if a > b else print(\"=\") if a == b else print(\"B\")"
      ],
      "execution_count": null,
      "outputs": []
    },
    {
      "cell_type": "code",
      "metadata": {
        "colab": {
          "base_uri": "https://localhost:8080/"
        },
        "id": "NnVgl-OqmPly",
        "outputId": "f9e40a37-d7af-4f1a-dab6-9e187f7ae5ea"
      },
      "source": [
        "#and\n",
        "a = 200\n",
        "b = 33\n",
        "c = 500\n",
        "if a > b and c > a:\n",
        "  print(\"Both conditions are True\")"
      ],
      "execution_count": null,
      "outputs": [
        {
          "output_type": "stream",
          "name": "stdout",
          "text": [
            "Both conditions are True\n"
          ]
        }
      ]
    },
    {
      "cell_type": "code",
      "metadata": {
        "colab": {
          "base_uri": "https://localhost:8080/"
        },
        "id": "xPakUjJRmUmy",
        "outputId": "76ecad60-b316-48b4-a848-c8c95da5c4b6"
      },
      "source": [
        "#or\n",
        "a = 200\n",
        "b = 33\n",
        "c = 500\n",
        "if a > b or a > c:\n",
        "  print(\"At least one of the conditions is True\")"
      ],
      "execution_count": null,
      "outputs": [
        {
          "output_type": "stream",
          "name": "stdout",
          "text": [
            "At least one of the conditions is True\n"
          ]
        }
      ]
    },
    {
      "cell_type": "code",
      "metadata": {
        "colab": {
          "base_uri": "https://localhost:8080/"
        },
        "id": "qmUKTFdambqS",
        "outputId": "436655d3-ee61-4ada-fe4a-7ea8683ac9ef"
      },
      "source": [
        "#nested if\n",
        "x = 41\n",
        "\n",
        "if x > 10:\n",
        "  print(\"Above ten,\")\n",
        "  if x > 20:\n",
        "    print(\"and also above 20!\")\n",
        "  else:\n",
        "    print(\"but not above 20.\")"
      ],
      "execution_count": null,
      "outputs": [
        {
          "output_type": "stream",
          "name": "stdout",
          "text": [
            "Above ten,\n",
            "and also above 20!\n"
          ]
        }
      ]
    },
    {
      "cell_type": "code",
      "metadata": {
        "id": "TVjOqBtKmyTy"
      },
      "source": [
        "a = 33\n",
        "b = 200\n",
        "\n",
        "if b > a:\n",
        "  pass\n",
        "\n",
        "\n",
        "# having an empty if statement like this, would raise an error without the pass statement"
      ],
      "execution_count": null,
      "outputs": []
    },
    {
      "cell_type": "markdown",
      "metadata": {
        "id": "neCrvQQPm_Zf"
      },
      "source": [
        "#Python Loops"
      ]
    },
    {
      "cell_type": "code",
      "metadata": {
        "colab": {
          "base_uri": "https://localhost:8080/"
        },
        "id": "qAmVjr6_nDZ-",
        "outputId": "1635cd77-0828-448f-b594-26d2e92368f5"
      },
      "source": [
        "#Python has two primitive loop commands:\n",
        "  #while loops\n",
        "  #for loops\n",
        "i = 1\n",
        "while i < 6:\n",
        "  print(i)\n",
        "  i += 1\n"
      ],
      "execution_count": null,
      "outputs": [
        {
          "output_type": "stream",
          "name": "stdout",
          "text": [
            "1\n",
            "2\n",
            "3\n",
            "4\n",
            "5\n"
          ]
        }
      ]
    },
    {
      "cell_type": "code",
      "metadata": {
        "colab": {
          "base_uri": "https://localhost:8080/"
        },
        "id": "OKR5qMEOnY7G",
        "outputId": "6800ad1c-a350-4937-8577-d7426cc42f72"
      },
      "source": [
        "i = 1\n",
        "while i < 6:\n",
        "  print(i)\n",
        "  if (i == 3):\n",
        "    break\n",
        "  i += 1"
      ],
      "execution_count": null,
      "outputs": [
        {
          "output_type": "stream",
          "name": "stdout",
          "text": [
            "1\n",
            "2\n",
            "3\n"
          ]
        }
      ]
    },
    {
      "cell_type": "code",
      "metadata": {
        "colab": {
          "base_uri": "https://localhost:8080/"
        },
        "id": "F_g2JfLUnwpu",
        "outputId": "d4bc9704-33c6-47f1-82ae-af8d451c5346"
      },
      "source": [
        "i = 0\n",
        "while i <= 6:\n",
        "  i += 1\n",
        "  if i == 3:\n",
        "    continue\n",
        "  print(i)\n",
        "\n",
        "# Note that number 3 is missing in the result"
      ],
      "execution_count": null,
      "outputs": [
        {
          "output_type": "stream",
          "name": "stdout",
          "text": [
            "1\n",
            "2\n",
            "4\n",
            "5\n",
            "6\n",
            "7\n"
          ]
        }
      ]
    },
    {
      "cell_type": "code",
      "metadata": {
        "colab": {
          "base_uri": "https://localhost:8080/"
        },
        "id": "t-_zhKAbn5me",
        "outputId": "e727e006-e6f7-4d8a-976a-8015f4b42a69"
      },
      "source": [
        "#else \n",
        "i = 1\n",
        "while i < 6:\n",
        "  print(i)\n",
        "  i += 1\n",
        "else:\n",
        "  print(\"i is no longer less than 6\")"
      ],
      "execution_count": null,
      "outputs": [
        {
          "output_type": "stream",
          "name": "stdout",
          "text": [
            "1\n",
            "2\n",
            "3\n",
            "4\n",
            "5\n",
            "i is no longer less than 6\n"
          ]
        }
      ]
    },
    {
      "cell_type": "code",
      "metadata": {
        "colab": {
          "base_uri": "https://localhost:8080/"
        },
        "id": "SAbNKMSgoF6u",
        "outputId": "35a273c1-0191-471f-e0d0-bd5cf46cfc22"
      },
      "source": [
        "fruits = [\"apple\", \"banana\", \"cherry\"]\n",
        "for x in fruits:\n",
        "  print(x) "
      ],
      "execution_count": null,
      "outputs": [
        {
          "output_type": "stream",
          "name": "stdout",
          "text": [
            "apple\n",
            "banana\n",
            "cherry\n"
          ]
        }
      ]
    },
    {
      "cell_type": "code",
      "metadata": {
        "colab": {
          "base_uri": "https://localhost:8080/"
        },
        "id": "DgWgLH4foWcB",
        "outputId": "87ad9146-0963-42df-a73a-1ee4b6b88ab8"
      },
      "source": [
        "for x in range(6):\n",
        "  print(x) "
      ],
      "execution_count": null,
      "outputs": [
        {
          "output_type": "stream",
          "name": "stdout",
          "text": [
            "0\n",
            "1\n",
            "2\n",
            "3\n",
            "4\n",
            "5\n"
          ]
        }
      ]
    },
    {
      "cell_type": "code",
      "metadata": {
        "colab": {
          "base_uri": "https://localhost:8080/"
        },
        "id": "ecD0hKkYoVV3",
        "outputId": "552bf5e5-dd64-4185-e5ce-9d78ddda465a"
      },
      "source": [
        "for x in range(2, 6):\n",
        "  print(x) "
      ],
      "execution_count": null,
      "outputs": [
        {
          "output_type": "stream",
          "name": "stdout",
          "text": [
            "2\n",
            "3\n",
            "4\n",
            "5\n"
          ]
        }
      ]
    },
    {
      "cell_type": "code",
      "metadata": {
        "colab": {
          "base_uri": "https://localhost:8080/"
        },
        "id": "-KwIP2UMog39",
        "outputId": "650f31e7-c238-4f60-cbb2-313af25e8b34"
      },
      "source": [
        "for x in range(2, 30, 3):\n",
        "  print(x) "
      ],
      "execution_count": null,
      "outputs": [
        {
          "output_type": "stream",
          "name": "stdout",
          "text": [
            "2\n",
            "5\n",
            "8\n",
            "11\n",
            "14\n",
            "17\n",
            "20\n",
            "23\n",
            "26\n",
            "29\n"
          ]
        }
      ]
    },
    {
      "cell_type": "code",
      "metadata": {
        "colab": {
          "base_uri": "https://localhost:8080/"
        },
        "id": "dGtOu1NRolW1",
        "outputId": "8dd1add1-fff1-437e-89e9-924eb90763f3"
      },
      "source": [
        "for x in range(6):\n",
        "  print(x)\n",
        "else:\n",
        "  print(\"Finally finished!\")"
      ],
      "execution_count": null,
      "outputs": [
        {
          "output_type": "stream",
          "name": "stdout",
          "text": [
            "0\n",
            "1\n",
            "2\n",
            "3\n",
            "4\n",
            "5\n",
            "Finally finished!\n"
          ]
        }
      ]
    },
    {
      "cell_type": "code",
      "metadata": {
        "colab": {
          "base_uri": "https://localhost:8080/"
        },
        "id": "6D4mXSqvor9n",
        "outputId": "74773186-008f-4f55-a0ad-46f11c958976"
      },
      "source": [
        "adj = [\"red\", \"big\", \"tasty\"]\n",
        "fruits = [\"apple\", \"banana\", \"cherry\"]\n",
        "\n",
        "for x in adj:\n",
        "  for y in fruits:\n",
        "    print(x, y)"
      ],
      "execution_count": null,
      "outputs": [
        {
          "output_type": "stream",
          "name": "stdout",
          "text": [
            "red apple\n",
            "red banana\n",
            "red cherry\n",
            "big apple\n",
            "big banana\n",
            "big cherry\n",
            "tasty apple\n",
            "tasty banana\n",
            "tasty cherry\n"
          ]
        }
      ]
    }
  ]
}